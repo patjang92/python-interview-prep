{
 "cells": [
  {
   "cell_type": "markdown",
   "metadata": {},
   "source": [
    "This notebook was prepared by [Donne Martin](http://donnemartin.com). Source and license info is on [GitHub](https://github.com/donnemartin/interactive-coding-challenges)."
   ]
  },
  {
   "cell_type": "markdown",
   "metadata": {},
   "source": [
    "# Challenge Notebook"
   ]
  },
  {
   "cell_type": "markdown",
   "metadata": {},
   "source": [
    "## Problem: Implement an algorithm to determine if a string has all unique characters.\n",
    "\n",
    "* [Constraints](#Constraints)\n",
    "* [Test Cases](#Test-Cases)\n",
    "* [Algorithm](#Algorithm)\n",
    "* [Code](#Code)\n",
    "* [Unit Test](#Unit-Test)\n",
    "* [Solution Notebook](#Solution-Notebook)"
   ]
  },
  {
   "cell_type": "markdown",
   "metadata": {},
   "source": [
    "## Constraints\n",
    "\n",
    "* Can we assume the string is ASCII?\n",
    "    * Yes\n",
    "    * Note: Unicode strings could require special handling depending on your language\n",
    "* Can we assume this is case sensitive?\n",
    "    * Yes\n",
    "* Can we use additional data structures?\n",
    "    * Yes\n",
    "* Can we assume this fits in memory?\n",
    "    * Yes"
   ]
  },
  {
   "cell_type": "markdown",
   "metadata": {},
   "source": [
    "## Test Cases\n",
    "\n",
    "* None -> False\n",
    "* '' -> True\n",
    "* 'foo' -> False\n",
    "* 'bar' -> True"
   ]
  },
  {
   "cell_type": "markdown",
   "metadata": {},
   "source": [
    "## Algorithm\n",
    "\n",
    "Refer to the [Solution Notebook](http://nbviewer.ipython.org/github/donnemartin/interactive-coding-challenges/blob/master/arrays_strings/unique_chars/unique_chars_solution.ipynb).  If you are stuck and need a hint, the solution notebook's algorithm discussion might be a good place to start."
   ]
  },
  {
   "cell_type": "markdown",
   "metadata": {},
   "source": [
    "## Code"
   ]
  },
  {
   "cell_type": "code",
   "execution_count": 61,
   "metadata": {},
   "outputs": [],
   "source": [
    "class UniqueChars(object):\n",
    "\n",
    "    # Solution using Hashtable\n",
    "    # Time Complexity: O(n)\n",
    "    # Space Copmlexity: O(n)\n",
    "    def has_unique_chars(self, string):\n",
    "        \n",
    "        if string is None:\n",
    "            return False\n",
    "        \n",
    "        seen_chars = set()\n",
    "        \n",
    "        for a in string:\n",
    "            if a in seen_chars:\n",
    "                return False\n",
    "            seen_chars.add(a)\n",
    "        \n",
    "        return True\n",
    "    \n",
    "#     # Solution using set\n",
    "#     # Time Complexity: O(n)\n",
    "#     # Space Complexity: O(n)\n",
    "#     def has_unique_chars(self, string):\n",
    "#         if string is None:\n",
    "#             return False\n",
    "        \n",
    "#         unique_chars_in_string = set(string)\n",
    "#         if len(unique_chars_in_string) == len(string):\n",
    "#             return True\n",
    "        \n",
    "#         return False\n",
    "\n",
    "# #     Solution using ascii codes\n",
    "# #     Time Complexity: O(n)\n",
    "# #     Space Complexity: O(n)    \n",
    "#     def has_unique_chars(self, string):\n",
    "#         if string is None:\n",
    "#             return False\n",
    "        \n",
    "#         seen_chars_ascii = [False] * 128\n",
    "        \n",
    "#         for a in string:\n",
    "#             a_ascii = ord(a)\n",
    "#             if seen_chars_ascii[a_ascii]:\n",
    "#                 return False\n",
    "#             seen_chars_ascii[a_ascii] = True\n",
    "            \n",
    "#         return True\n",
    "        \n",
    "\n",
    "    "
   ]
  },
  {
   "cell_type": "code",
   "execution_count": 63,
   "metadata": {},
   "outputs": [],
   "source": [
    "def main():\n",
    "    unique_chars = UniqueChars()\n",
    "    print(unique_chars.has_unique_chars('foo'))"
   ]
  },
  {
   "cell_type": "markdown",
   "metadata": {},
   "source": [
    "## Unit Test"
   ]
  },
  {
   "cell_type": "markdown",
   "metadata": {},
   "source": [
    "**The following unit test is expected to fail until you solve the challenge.**"
   ]
  },
  {
   "cell_type": "code",
   "execution_count": 64,
   "metadata": {},
   "outputs": [
    {
     "name": "stdout",
     "output_type": "stream",
     "text": [
      "Success: test_unique_chars\n"
     ]
    }
   ],
   "source": [
    "# %load test_unique_chars.py\n",
    "import unittest\n",
    "\n",
    "\n",
    "class TestUniqueChars(unittest.TestCase):\n",
    "\n",
    "    def test_unique_chars(self, func):\n",
    "        self.assertEqual(func(None), False)\n",
    "        self.assertEqual(func(''), True)\n",
    "        self.assertEqual(func('foo'), False)\n",
    "        self.assertEqual(func('bar'), True)\n",
    "        print('Success: test_unique_chars')\n",
    "\n",
    "\n",
    "def main():\n",
    "    test = TestUniqueChars()\n",
    "    unique_chars = UniqueChars()\n",
    "    test.test_unique_chars(unique_chars.has_unique_chars)\n",
    "    try:\n",
    "        unique_chars_set = UniqueCharsSet()\n",
    "        test.test_unique_chars(unique_chars_set.has_unique_chars)\n",
    "        unique_chars_in_place = UniqueCharsInPlace()\n",
    "        test.test_unique_chars(unique_chars_in_place.has_unique_chars)\n",
    "    except NameError:\n",
    "        # Alternate solutions are only defined\n",
    "        # in the solutions file\n",
    "        pass\n",
    "\n",
    "\n",
    "if __name__ == '__main__':\n",
    "    main()"
   ]
  },
  {
   "cell_type": "markdown",
   "metadata": {},
   "source": [
    "## Solution Notebook\n",
    "\n",
    "Review the [Solution Notebook](http://nbviewer.ipython.org/github/donnemartin/interactive-coding-challenges/blob/master/arrays_strings/unique_chars/unique_chars_solution.ipynb) for a discussion on algorithms and code solutions."
   ]
  },
  {
   "cell_type": "code",
   "execution_count": null,
   "metadata": {},
   "outputs": [],
   "source": []
  }
 ],
 "metadata": {
  "kernelspec": {
   "display_name": "Python 3",
   "language": "python",
   "name": "python3"
  },
  "language_info": {
   "codemirror_mode": {
    "name": "ipython",
    "version": 3
   },
   "file_extension": ".py",
   "mimetype": "text/x-python",
   "name": "python",
   "nbconvert_exporter": "python",
   "pygments_lexer": "ipython3",
   "version": "3.7.6"
  }
 },
 "nbformat": 4,
 "nbformat_minor": 1
}
