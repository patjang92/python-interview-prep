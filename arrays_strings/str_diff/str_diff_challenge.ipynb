{
 "cells": [
  {
   "cell_type": "markdown",
   "metadata": {},
   "source": [
    "This notebook was prepared by [Donne Martin](https://github.com/donnemartin). Source and license info is on [GitHub](https://github.com/donnemartin/interactive-coding-challenges)."
   ]
  },
  {
   "cell_type": "markdown",
   "metadata": {},
   "source": [
    "# Challenge Notebook"
   ]
  },
  {
   "cell_type": "markdown",
   "metadata": {},
   "source": [
    "## Problem: Find the single different char between two strings.\n",
    "\n",
    "* [Constraints](#Constraints)\n",
    "* [Test Cases](#Test-Cases)\n",
    "* [Algorithm](#Algorithm)\n",
    "* [Code](#Code)\n",
    "* [Unit Test](#Unit-Test)\n",
    "* [Solution Notebook](#Solution-Notebook)"
   ]
  },
  {
   "cell_type": "markdown",
   "metadata": {},
   "source": [
    "## Constraints\n",
    "\n",
    "* Can we assume the strings are ASCII?\n",
    "    * Yes\n",
    "* Is case important?\n",
    "    * The strings are lower case\n",
    "* Can we assume the inputs are valid?\n",
    "    * No, check for None\n",
    "    * Otherwise, assume there is only a single different char between the two strings\n",
    "* Can we assume this fits memory?\n",
    "    * Yes"
   ]
  },
  {
   "cell_type": "markdown",
   "metadata": {},
   "source": [
    "## Test Cases\n",
    "\n",
    "* None input -> TypeError\n",
    "* 'ab', 'aab' -> 'a'\n",
    "* 'aab', 'ab' -> 'a'\n",
    "* 'abcd', 'abcde' -> 'e'\n",
    "* 'aaabbcdd', 'abdbacade' -> 'e'"
   ]
  },
  {
   "cell_type": "markdown",
   "metadata": {},
   "source": [
    "## Algorithm\n",
    "\n",
    "Refer to the [Solution Notebook](str_diff_solution.ipynb).  If you are stuck and need a hint, the solution notebook's algorithm discussion might be a good place to start."
   ]
  },
  {
   "cell_type": "markdown",
   "metadata": {},
   "source": [
    "## Code"
   ]
  },
  {
   "cell_type": "code",
   "execution_count": 15,
   "metadata": {},
   "outputs": [],
   "source": [
    "class Solution(object):\n",
    "\n",
    "    # Time Complexity: O(m + n)\n",
    "    # Space Complexity: O(h) where h is unique chars\n",
    "    def find_diff(self, str1, str2):\n",
    "        if str1 is None or str2 is None:\n",
    "            raise TypeError\n",
    "        \n",
    "        seen_chars = {}\n",
    "        \n",
    "        for c in str1:\n",
    "            if c not in seen_chars:\n",
    "                seen_chars[c] = 1\n",
    "            else:\n",
    "                seen_chars[c] += 1\n",
    "                \n",
    "                \n",
    "        for c in str2:\n",
    "            if c in seen_chars:\n",
    "                seen_chars[c] -= 1\n",
    "            else:\n",
    "                return c\n",
    "            \n",
    "        return [ k for k, v in seen_chars.items() if v != 0 ][0]\n",
    "                \n",
    "        \n",
    "    def find_diff_xor(self, str1, str2):\n",
    "        if str1 is None or str2 is None:\n",
    "            raise TypeError(\"str1 or str2 cannot be None\")\n",
    "            \n",
    "        result = 0\n",
    "        for c in str1:\n",
    "            result ^= ord(c)\n",
    "        \n",
    "        for c in str2:\n",
    "            result ^= ord(c)\n",
    "            \n",
    "        return chr(result)\n",
    "                "
   ]
  },
  {
   "cell_type": "code",
   "execution_count": 10,
   "metadata": {},
   "outputs": [
    {
     "data": {
      "text/plain": [
       "'a'"
      ]
     },
     "execution_count": 10,
     "metadata": {},
     "output_type": "execute_result"
    }
   ],
   "source": [
    "test_map = {'a': 1, 'b':2, 'c':1}\n",
    "[ k  for k, v in test_map.items() if v != 2 ][0]"
   ]
  },
  {
   "cell_type": "code",
   "execution_count": 11,
   "metadata": {},
   "outputs": [
    {
     "data": {
      "text/plain": [
       "dict_items([('a', 1), ('b', 2), ('c', 1)])"
      ]
     },
     "execution_count": 11,
     "metadata": {},
     "output_type": "execute_result"
    }
   ],
   "source": [
    "test_map.items()"
   ]
  },
  {
   "cell_type": "markdown",
   "metadata": {},
   "source": [
    "## Unit Test"
   ]
  },
  {
   "cell_type": "markdown",
   "metadata": {},
   "source": [
    "**The following unit test is expected to fail until you solve the challenge.**"
   ]
  },
  {
   "cell_type": "code",
   "execution_count": 16,
   "metadata": {},
   "outputs": [
    {
     "name": "stdout",
     "output_type": "stream",
     "text": [
      "Success: test_find_diff\n"
     ]
    }
   ],
   "source": [
    "# %load test_str_diff.py\n",
    "import unittest\n",
    "\n",
    "\n",
    "class TestFindDiff(unittest.TestCase):\n",
    "\n",
    "    def test_find_diff(self):\n",
    "        solution = Solution()\n",
    "        self.assertRaises(TypeError, solution.find_diff, None)\n",
    "        self.assertEqual(solution.find_diff('ab', 'aab'), 'a')\n",
    "        self.assertEqual(solution.find_diff('aab', 'ab'), 'a')\n",
    "        self.assertEqual(solution.find_diff('abcd', 'abcde'), 'e')\n",
    "        self.assertEqual(solution.find_diff('aaabbcdd', 'abdbacade'), 'e')\n",
    "        self.assertEqual(solution.find_diff_xor('ab', 'aab'), 'a')\n",
    "        self.assertEqual(solution.find_diff_xor('aab', 'ab'), 'a')\n",
    "        self.assertEqual(solution.find_diff_xor('abcd', 'abcde'), 'e')\n",
    "        self.assertEqual(solution.find_diff_xor('aaabbcdd', 'abdbacade'), 'e')\n",
    "        print('Success: test_find_diff')\n",
    "\n",
    "\n",
    "def main():\n",
    "    test = TestFindDiff()\n",
    "    test.test_find_diff()\n",
    "\n",
    "\n",
    "if __name__ == '__main__':\n",
    "    main()"
   ]
  },
  {
   "cell_type": "markdown",
   "metadata": {},
   "source": [
    "## Solution Notebook\n",
    "\n",
    "Review the [Solution Notebook](http://nbviewer.jupyter.org/github/donnemartin/interactive-coding-challenges/blob/master/arrays_strings/str_diff/str_diff_solution.ipynb) for a discussion on algorithms and code solutions."
   ]
  }
 ],
 "metadata": {
  "kernelspec": {
   "display_name": "Python 3",
   "language": "python",
   "name": "python3"
  },
  "language_info": {
   "codemirror_mode": {
    "name": "ipython",
    "version": 3
   },
   "file_extension": ".py",
   "mimetype": "text/x-python",
   "name": "python",
   "nbconvert_exporter": "python",
   "pygments_lexer": "ipython3",
   "version": "3.7.6"
  }
 },
 "nbformat": 4,
 "nbformat_minor": 1
}
